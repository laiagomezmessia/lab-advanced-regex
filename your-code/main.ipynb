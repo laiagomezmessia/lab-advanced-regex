{
 "cells": [
  {
   "cell_type": "markdown",
   "metadata": {},
   "source": [
    "# Advanced Regular Expressions Lab\n",
    "\n",
    "Complete the following set of exercises to solidify your knowledge of regular expressions."
   ]
  },
  {
   "cell_type": "code",
   "execution_count": 1,
   "metadata": {},
   "outputs": [],
   "source": [
    "import re"
   ]
  },
  {
   "cell_type": "markdown",
   "metadata": {},
   "source": [
    "### 1. Use a regular expression to find and extract all vowels in the following text."
   ]
  },
  {
   "cell_type": "code",
   "execution_count": 2,
   "metadata": {},
   "outputs": [],
   "source": [
    "text = \"This is going to be a sentence with a good number of vowels in it.\""
   ]
  },
  {
   "cell_type": "code",
   "execution_count": 3,
   "metadata": {},
   "outputs": [
    {
     "name": "stdout",
     "output_type": "stream",
     "text": [
      "['i', 'i', 'o', 'i', 'o', 'e', 'a', 'e', 'e', 'e', 'i', 'a', 'o', 'o', 'u', 'e', 'o', 'o', 'e', 'i', 'i']\n"
     ]
    }
   ],
   "source": [
    "pattern = '[aeiou]'\n",
    "print(re.findall(pattern, text))"
   ]
  },
  {
   "cell_type": "markdown",
   "metadata": {},
   "source": [
    "### 2. Use a regular expression to find and extract all occurrences and tenses (singular and plural) of the word \"puppy\" in the text below."
   ]
  },
  {
   "cell_type": "code",
   "execution_count": 4,
   "metadata": {},
   "outputs": [],
   "source": [
    "text = \"The puppy saw all the rest of the puppies playing and wanted to join them. I saw this and wanted a puppy of my own!\""
   ]
  },
  {
   "cell_type": "code",
   "execution_count": 5,
   "metadata": {},
   "outputs": [
    {
     "name": "stdout",
     "output_type": "stream",
     "text": [
      "['puppy', 'puppies', 'puppy']\n"
     ]
    }
   ],
   "source": [
    "pattern = r'\\bpuppy\\b|\\bpuppies\\b'\n",
    "print(re.findall(pattern, text))"
   ]
  },
  {
   "cell_type": "markdown",
   "metadata": {},
   "source": [
    "### 3. Use a regular expression to find and extract all tenses (present and past) of the word \"run\" in the text below."
   ]
  },
  {
   "cell_type": "code",
   "execution_count": 6,
   "metadata": {},
   "outputs": [],
   "source": [
    "text = \"I ran the relay race the only way I knew how to run it.\""
   ]
  },
  {
   "cell_type": "code",
   "execution_count": 7,
   "metadata": {},
   "outputs": [
    {
     "name": "stdout",
     "output_type": "stream",
     "text": [
      "['ran', 'run']\n"
     ]
    }
   ],
   "source": [
    "pattern = r'\\brun\\b|\\bran\\b'\n",
    "print(re.findall(pattern, text))"
   ]
  },
  {
   "cell_type": "markdown",
   "metadata": {},
   "source": [
    "### 4. Use a regular expression to find and extract all words that begin with the letter \"r\" from the previous text."
   ]
  },
  {
   "cell_type": "code",
   "execution_count": 8,
   "metadata": {},
   "outputs": [
    {
     "name": "stdout",
     "output_type": "stream",
     "text": [
      "['ran', 'relay', 'race', 'run']\n"
     ]
    }
   ],
   "source": [
    "pattern = r'\\b[rR]\\w+'\n",
    "\n",
    "print(re.findall(pattern, text))"
   ]
  },
  {
   "cell_type": "markdown",
   "metadata": {},
   "source": [
    "### 5. Use a regular expression to find and substitute the letter \"i\" for the exclamation marks in the text below."
   ]
  },
  {
   "cell_type": "code",
   "execution_count": 9,
   "metadata": {},
   "outputs": [],
   "source": [
    "text = \"Th!s !s a sentence w!th spec!al characters !n !t.\""
   ]
  },
  {
   "cell_type": "code",
   "execution_count": 10,
   "metadata": {},
   "outputs": [
    {
     "name": "stdout",
     "output_type": "stream",
     "text": [
      "This is a sentence with special characters in it.\n"
     ]
    }
   ],
   "source": [
    "pattern = r'!+'\n",
    "replacement = 'i'\n",
    "\n",
    "print(re.sub(pattern, replacement, text))"
   ]
  },
  {
   "cell_type": "markdown",
   "metadata": {},
   "source": [
    "### 6. Use a regular expression to find and extract words longer than 4 characters in the text below."
   ]
  },
  {
   "cell_type": "code",
   "execution_count": 11,
   "metadata": {},
   "outputs": [],
   "source": [
    "text = \"This sentence has words of varying lengths.\""
   ]
  },
  {
   "cell_type": "code",
   "execution_count": 12,
   "metadata": {},
   "outputs": [
    {
     "name": "stdout",
     "output_type": "stream",
     "text": [
      "['This', 'sentence', 'words', 'varying', 'lengths']\n"
     ]
    }
   ],
   "source": [
    "pattern = r'\\b\\w{4,}\\b'\n",
    "\n",
    "print(re.findall(pattern, text))"
   ]
  },
  {
   "cell_type": "markdown",
   "metadata": {},
   "source": [
    "### 7. Use a regular expression to find and extract all occurrences of the letter \"b\", some letter(s), and then the letter \"t\" in the sentence below."
   ]
  },
  {
   "cell_type": "code",
   "execution_count": 13,
   "metadata": {},
   "outputs": [],
   "source": [
    "text = \"I bet the robot couldn't beat the other bot with a bat, but instead it bit me.\""
   ]
  },
  {
   "cell_type": "code",
   "execution_count": 14,
   "metadata": {},
   "outputs": [
    {
     "name": "stdout",
     "output_type": "stream",
     "text": [
      "['bet', 'bot', 'beat', 'bot', 'bat', 'but', 'bit']\n"
     ]
    }
   ],
   "source": [
    "pattern = r'b\\w+t'\n",
    "# pattern = '\\\\b[bB]\\\\w*t\\\\b'\n",
    "\n",
    "print(re.findall(pattern, text))"
   ]
  },
  {
   "cell_type": "markdown",
   "metadata": {},
   "source": [
    "### 8. Use a regular expression to find and extract all words that contain either \"ea\" or \"eo\" in them."
   ]
  },
  {
   "cell_type": "code",
   "execution_count": 15,
   "metadata": {},
   "outputs": [],
   "source": [
    "text = \"During many of the peaks and troughs of history, the people living it didn't fully realize what was unfolding. But we all know we're navigating breathtaking history: Nearly every day could be — maybe will be — a book.\""
   ]
  },
  {
   "cell_type": "code",
   "execution_count": 16,
   "metadata": {},
   "outputs": [
    {
     "name": "stdout",
     "output_type": "stream",
     "text": [
      "['peaks', 'people', 'realize', 'breathtaking', 'Nearly']\n"
     ]
    }
   ],
   "source": [
    "pattern = r'\\w*ea\\w*|\\w*eo+\\w*'\n",
    "\n",
    "print(re.findall(pattern, text))"
   ]
  },
  {
   "cell_type": "markdown",
   "metadata": {},
   "source": [
    "### 9. Use a regular expression to find and extract all the capitalized words in the text below individually."
   ]
  },
  {
   "cell_type": "code",
   "execution_count": 17,
   "metadata": {},
   "outputs": [],
   "source": [
    "text = \"Teddy Roosevelt and Abraham Lincoln walk into a bar.\""
   ]
  },
  {
   "cell_type": "code",
   "execution_count": 18,
   "metadata": {},
   "outputs": [
    {
     "name": "stdout",
     "output_type": "stream",
     "text": [
      "['T', 'R', 'A', 'L']\n"
     ]
    }
   ],
   "source": [
    "pattern = '[A-Z]'\n",
    "\n",
    "print(re.findall(pattern, text))"
   ]
  },
  {
   "cell_type": "markdown",
   "metadata": {},
   "source": [
    "### 10. Use a regular expression to find and extract all the sets of consecutive capitalized words in the text above."
   ]
  },
  {
   "cell_type": "code",
   "execution_count": 19,
   "metadata": {},
   "outputs": [
    {
     "name": "stdout",
     "output_type": "stream",
     "text": [
      "['Teddy Roosevelt', 'Abraham Lincoln']\n"
     ]
    }
   ],
   "source": [
    "pattern = r'\\b[A-Z][A-Za-z]*\\s[A-Z][A-Za-z]*\\b'\n",
    "\n",
    "print(re.findall(pattern, text))"
   ]
  },
  {
   "cell_type": "markdown",
   "metadata": {},
   "source": [
    "### 11. Use a regular expression to find and extract all the quotes from the text below.\n",
    "\n",
    "*Hint: This one is a little more complex than the single quote example in the lesson because there are multiple quotes in the text.*"
   ]
  },
  {
   "cell_type": "code",
   "execution_count": 20,
   "metadata": {},
   "outputs": [],
   "source": [
    "text = 'Roosevelt says to Lincoln, \"I will bet you $50 I can get the bartender to give me a free drink.\" Lincoln says, \"I am in!\"'"
   ]
  },
  {
   "cell_type": "code",
   "execution_count": 21,
   "metadata": {},
   "outputs": [
    {
     "name": "stdout",
     "output_type": "stream",
     "text": [
      "['I will bet you $50 I can get the bartender to give me a free drink.', 'I am in!']\n"
     ]
    }
   ],
   "source": [
    "pattern = r'\"([^\"]+)\"'\n",
    "\n",
    "print(re.findall(pattern, text))"
   ]
  },
  {
   "cell_type": "markdown",
   "metadata": {},
   "source": [
    "### 12. Use a regular expression to find and extract all the numbers from the text below."
   ]
  },
  {
   "cell_type": "code",
   "execution_count": 22,
   "metadata": {},
   "outputs": [],
   "source": [
    "text = \"There were 30 students in the class. Of the 30 students, 14 were male and 16 were female. Only 10 students got A's on the exam.\""
   ]
  },
  {
   "cell_type": "code",
   "execution_count": 23,
   "metadata": {},
   "outputs": [
    {
     "name": "stdout",
     "output_type": "stream",
     "text": [
      "['30', '30', '14', '16', '10']\n"
     ]
    }
   ],
   "source": [
    "pattern = '[\\d]+'\n",
    "\n",
    "print(re.findall(pattern, text))"
   ]
  },
  {
   "cell_type": "markdown",
   "metadata": {},
   "source": [
    "### 13. Use a regular expression to find and extract all the social security numbers from the text below."
   ]
  },
  {
   "cell_type": "code",
   "execution_count": 24,
   "metadata": {},
   "outputs": [],
   "source": [
    "text = \"\"\"\n",
    "Henry's social security number is 876-93-2289 and his phone number is (847)789-0984.\n",
    "Darlene's social security number is 098-32-5295 and her phone number is (987)222-0901.\n",
    "\"\"\""
   ]
  },
  {
   "cell_type": "code",
   "execution_count": 25,
   "metadata": {},
   "outputs": [
    {
     "name": "stdout",
     "output_type": "stream",
     "text": [
      "['876-93-2289', '098-32-5295']\n"
     ]
    }
   ],
   "source": [
    "pattern = '\\d{3}[-]\\d{2}[-]\\d{4}'\n",
    "\n",
    "print(re.findall(pattern, text))"
   ]
  },
  {
   "cell_type": "markdown",
   "metadata": {},
   "source": [
    "### 14. Use a regular expression to find and extract all the phone numbers from the text below."
   ]
  },
  {
   "cell_type": "code",
   "execution_count": 26,
   "metadata": {},
   "outputs": [
    {
     "name": "stdout",
     "output_type": "stream",
     "text": [
      "['(847)789-0984', '(987)222-0901']\n"
     ]
    }
   ],
   "source": [
    "pattern = '\\(\\d{3}\\)\\d{3}[-]\\d{4}'\n",
    "\n",
    "print(re.findall(pattern, text))"
   ]
  },
  {
   "cell_type": "markdown",
   "metadata": {},
   "source": [
    "### 15. Use a regular expression to find and extract all the formatted numbers (both social security and phone) from the text below."
   ]
  },
  {
   "cell_type": "code",
   "execution_count": 27,
   "metadata": {},
   "outputs": [
    {
     "name": "stdout",
     "output_type": "stream",
     "text": [
      "['876-93-2289', '(847)789-0984', '098-32-5295', '(987)222-0901']\n"
     ]
    }
   ],
   "source": [
    "pattern = r'(\\(\\d{3}\\)\\d{3}[-]\\d{4}|\\d{3}[-]\\d{2}[-]\\d{4})'\n",
    "\n",
    "print(re.findall(pattern, text))"
   ]
  },
  {
   "cell_type": "code",
   "execution_count": 28,
   "metadata": {},
   "outputs": [
    {
     "data": {
      "text/plain": [
       "'\\nspecify number of matches:\\n*: Matches previous character 0 or more times\\n+: Matches previous character 1 or more times\\n?: Matches previous character 0 or 1 times (optional)\\n{}: Matches previous characters however many times specified within:\\n{n} : Exactly n times \\n{n,} : At least n times\\n{n,m} : Between n and m times\\n'"
      ]
     },
     "execution_count": 28,
     "metadata": {},
     "output_type": "execute_result"
    }
   ],
   "source": [
    "'''\n",
    "Meta-characters\n",
    "[]  : Match set of characters\n",
    ".   : Match any character except the newline character (\\n)\n",
    "^   : 1) Match characters not listed if within set or \n",
    "      2) match beginning of string\n",
    "$   : Match end of string\n",
    "|   : Functions as an \"OR\" operator\n",
    "'''\n",
    "\n",
    "'''\n",
    "Character classes\n",
    "\\w: Any alphanumeric character. equivalent to [A-Za-z0-9_]\n",
    "\\W: Any non-alphanumeric character. equivalent to [^A-Za-z0-9_]\n",
    "\\d: Any numeric character. [0-9]\n",
    "\\D: Any non-numeric character. [^0-9]\n",
    "\\s: Any whitespace characters. [ \\t\\n\\f]\n",
    "\\S: Any non-whitespace characters.\n",
    "'''\n",
    "\n",
    "'''\n",
    "specify number of matches:\n",
    "*: Matches previous character 0 or more times\n",
    "+: Matches previous character 1 or more times\n",
    "?: Matches previous character 0 or 1 times (optional)\n",
    "{}: Matches previous characters however many times specified within:\n",
    "{n} : Exactly n times \n",
    "{n,} : At least n times\n",
    "{n,m} : Between n and m times\n",
    "'''"
   ]
  },
  {
   "cell_type": "code",
   "execution_count": 29,
   "metadata": {},
   "outputs": [],
   "source": [
    "text =\"\"\"\n",
    "Aeromexico 800-237-6639\n",
    "Air Canada 888-247-2262\n",
    "Air Canada Rouge 888-247-2262\n",
    "Air Creebec 800-567-6567\n",
    "Air Inuit 800-361-2965\n",
    "Air North 800-661-0407\n",
    "Air Tindi 888-545-6794\n",
    "Air Transat 866-847-1112\n",
    "Alaska Airlines 800-426-0333,866-516-1685\n",
    "Allegiant Air 702-505-8888\n",
    "American Airlines 800-433-7300\n",
    "Bearskin Airlines 807-577-1141\n",
    "Buffalo Airways 867-874-3333\n",
    "Calm Air 800-839-2256\n",
    "Cape Air 800-227-3247\n",
    "Delta Air Lines 800-455-2720\n",
    "First Air 800-267-1247\n",
    "Flair Airlines 204-888-2665\n",
    "Frontier Airlines 801-401-9000\n",
    "Harb-or-Air 800-665-0212\n",
    "Hawaiian Airlines 877-426-4537\n",
    "Horizon Air 800-547-9308\n",
    "InterJet 866-285-8307\n",
    "Island Air 800-388-1105\n",
    "JetBlue 800-538-2583\n",
    "Porter Airlines 888-619-8622\n",
    "Silver Airways 801-401-9100\n",
    "Southwest Airlines 800-435-9792\n",
    "Spirit Airlines 801-401-2222\n",
    "Sun Country Airlines 800-359-6786\n",
    "Sunwing 877-SUN-WING\n",
    "Thunder Airlines 800-803-9943\n",
    "United Airlines 800-864-8331\n",
    "Virgin America 877-359-8474\n",
    "VivaAerobus 888-935-988 \n",
    "Volaris 855-865-2747\n",
    "WestJet Airlines 888-937-8538\n",
    "\"\"\"\n"
   ]
  },
  {
   "cell_type": "code",
   "execution_count": 30,
   "metadata": {},
   "outputs": [
    {
     "name": "stdout",
     "output_type": "stream",
     "text": [
      "['800-237-6639', '888-247-2262', '888-247-2262', '800-567-6567', '800-361-2965', '800-661-0407', '888-545-6794', '866-847-1112', '800-426-0333', '866-516-1685', '702-505-8888', '800-433-7300', '807-577-1141', '867-874-3333', '800-839-2256', '800-227-3247', '800-455-2720', '800-267-1247', '204-888-2665', '801-401-9000', '800-665-0212', '877-426-4537', '800-547-9308', '866-285-8307', '800-388-1105', '800-538-2583', '888-619-8622', '801-401-9100', '800-435-9792', '801-401-2222', '800-359-6786', '800-803-9943', '800-864-8331', '877-359-8474', '855-865-2747', '888-937-8538']\n"
     ]
    }
   ],
   "source": [
    "pattern = '\\d{3}[-]\\d{3}[-]\\d{4}'\n",
    "\n",
    "print(re.findall(pattern, text))"
   ]
  },
  {
   "cell_type": "code",
   "execution_count": null,
   "metadata": {},
   "outputs": [],
   "source": []
  },
  {
   "cell_type": "code",
   "execution_count": null,
   "metadata": {},
   "outputs": [],
   "source": []
  }
 ],
 "metadata": {
  "kernelspec": {
   "display_name": "Python 3 (ipykernel)",
   "language": "python",
   "name": "python3"
  },
  "language_info": {
   "codemirror_mode": {
    "name": "ipython",
    "version": 3
   },
   "file_extension": ".py",
   "mimetype": "text/x-python",
   "name": "python",
   "nbconvert_exporter": "python",
   "pygments_lexer": "ipython3",
   "version": "3.9.13"
  }
 },
 "nbformat": 4,
 "nbformat_minor": 2
}
